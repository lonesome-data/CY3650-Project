{
 "cells": [
  {
   "cell_type": "markdown",
   "metadata": {},
   "source": [
    "   # NLP with Python"
   ]
  },
  {
   "cell_type": "markdown",
   "metadata": {},
   "source": [
    "<p align=\"center\">\n",
    "<img src=\"img/live_preview.jpeg\" width=\"550\">\n",
    "</p>"
   ]
  },
  {
   "cell_type": "markdown",
   "metadata": {},
   "source": [
    "Follow the Data Science pipeline to plot frequency distributions of words in *On Handling the Data*.\n",
    "Novels are scraped from the website [Project Gutenberg](https://www.gutenberg.org/) (large corpus of books) using the Python package `requests` and extracted using `BeautifulSoup`. Analyze a novel using the Natural Language ToolKit (`nltk`).\n",
    "The process teaches critical aspects of Natural Language Processing (NLP) such as tokenization and stopwords.\n",
    "Visualize word frequency distributions of any novel from Project Gutenberg.\n",
    "The NLP skills developed, however, are applicable to much of what Data Scientists encounter as the vast proportion of the world's data is unstructured data and includes a great deal of text.\n",
    "\n",
    "This code was generated from a Jupyter Notebook found in [this repository](https://github.com/lonesome-data/CY3650-Project.git) and inspired by Hugo Bowne-Anderson's 'Frequencies of words in novels: a Data Science pipeline'. "
   ]
  },
  {
   "cell_type": "markdown",
   "metadata": {},
   "source": [
    "## Pre-steps\n",
    "\n",
    "Follow the instructions in the README.md to get your system set up and ready to go."
   ]
  },
  {
   "cell_type": "markdown",
   "metadata": {},
   "source": [
    "## 1. State Your Question\n",
    "\n",
    "What are the most frequent words in the novel _On Handling the Data_ and how often do they occur?"
   ]
  },
  {
   "cell_type": "markdown",
   "metadata": {},
   "source": [
    "## 2. Collect Data"
   ]
  },
  {
   "cell_type": "markdown",
   "metadata": {},
   "source": [
    "In this example, the raw data is M. I. Mayfield's text _On Handling the Data_.  Imagine other sources of raw data.  For instance, a classifed transcript of a discussion captured using SIGINT.... \n",
    "\n",
    "The focal text of this project is freely available online at [Project Gutenberg](https://www.gutenberg.org/). The following will declare a variable pointing to the text's location at the Project Gutenberg url:"
   ]
  },
  {
   "cell_type": "code",
   "execution_count": 1,
   "metadata": {},
   "outputs": [],
   "source": [
    "# Store url\n",
    "url = 'https://www.gutenberg.org/files/23429/23429-h/23429-h.htm'"
   ]
  },
  {
   "cell_type": "markdown",
   "metadata": {},
   "source": [
    "With access to the specific URL, now fetch the HTML. \n",
    "\n",
    "**Note** that HTML stands for Hypertext Markup Language and is the standard markup language for the web.\n",
    "\n",
    "This project will demonstrate use of [`requests`](http://docs.python-requests.org/en/master/).  One of the [most popular](https://pythontips.com/2013/07/30/20-python-libraries-you-cant-live-without/) and useful Python packages.\n",
    "\n",
    "Find out more in DataCamp's [Importing Data in Python (Part 2) course](https://www.datacamp.com/courses/importing-data-in-python-part-2). \n",
    "\n",
    "<img src=\"img/requests.png\" width=\"200\">\n",
    "\n",
    "According to the `requests` package website:\n",
    "\n",
    "> Requests allows you to send organic, grass-fed HTTP/1.1 requests, without the need for manual labor.\n",
    "\n",
    "and the following organizations claim to use `requests` internally:\n",
    "\n",
    "> Her Majesty's Government, Amazon, Google, Twilio, NPR, Obama for America,  Twitter, Sony, and Federal U.S. Institutions that prefer to be unnamed.\n",
    "\n",
    "Moreover,\n",
    "\n",
    "> Requests is one of the most downloaded Python packages of all time, pulling in over 13,000,000 downloads every month. All the cool kids are doing it!\n",
    "\n",
    "Below leverages a `GET` request from the website, which means we are _getting_ data from it. This is similar to what happens under the hood when navigating through a browser. There are other types of requests, such as `POST` requests; feel free to explore.  \n",
    "\n",
    "`requests` make this easy with its `get` function. Let's make the request and check the object type returned."
   ]
  },
  {
   "cell_type": "code",
   "execution_count": 2,
   "metadata": {},
   "outputs": [
    {
     "data": {
      "text/plain": [
       "requests.models.Response"
      ]
     },
     "execution_count": 2,
     "metadata": {},
     "output_type": "execute_result"
    }
   ],
   "source": [
    "# Import `requests`\n",
    "import requests\n",
    "\n",
    "# Make the request and check object type\n",
    "r = requests.get(url)\n",
    "type(r)"
   ]
  },
  {
   "cell_type": "markdown",
   "metadata": {},
   "source": [
    "This is a `Response` object. You can see in the [`requests` kickstart guide](http://docs.python-requests.org/en/master/user/quickstart/) that a `Response` object has an attribute `text` that allows extraction of the HTML. Let's assign and print the raw HTML extract "
   ]
  },
  {
   "cell_type": "code",
   "execution_count": 4,
   "metadata": {},
   "outputs": [],
   "source": [
    "# Extract HTML from Response object and print\n",
    "html = r.text\n",
    "\n",
    "#print(html)"
   ]
  },
  {
   "cell_type": "markdown",
   "metadata": {},
   "source": [
    "This HTML _contains_ the text but not exactly ready for NLP.  This next step is ubiquious throughout data science and often coined _wrangling_ or _munging_.   "
   ]
  },
  {
   "cell_type": "markdown",
   "metadata": {},
   "source": [
    "## 3. Data Wrangling (munging)"
   ]
  },
  {
   "cell_type": "markdown",
   "metadata": {},
   "source": [
    "### Part 1: Get the Text from the HTML"
   ]
  },
  {
   "cell_type": "markdown",
   "metadata": {},
   "source": [
    "\n",
    "Use the package [`BeautifulSoup`](https://www.crummy.com/software/BeautifulSoup/). The package website says:\n",
    "\n",
    "<img src=\"img/bs4.png\" width=\"550\">\n",
    "\n",
    "\n",
    "\n",
    "Sidebar: a brief word on the name of the package: Beautiful Soup. In web development, the term \"tag soup\" refers to structurally or syntactically incorrect HTML code written for a web page. Beautiful Soup converts malformed HTML to optimize extraction. The main object created and queried when using this package is called `BeautifulSoup`. After creating the soup, use its `.get_text()` method to extract the text."
   ]
  },
  {
   "cell_type": "code",
   "execution_count": 5,
   "metadata": {},
   "outputs": [
    {
     "data": {
      "text/plain": [
       "bs4.BeautifulSoup"
      ]
     },
     "execution_count": 5,
     "metadata": {},
     "output_type": "execute_result"
    }
   ],
   "source": [
    "# Import BeautifulSoup from bs4\n",
    "from bs4 import BeautifulSoup\n",
    "\n",
    "# Create a BeautifulSoup object from the HTML\n",
    "soup = BeautifulSoup(html, \"html5lib\")\n",
    "type(soup)"
   ]
  },
  {
   "cell_type": "markdown",
   "metadata": {},
   "source": [
    "From these soup objects, one can extract interesting information about the website, such as title:"
   ]
  },
  {
   "cell_type": "code",
   "execution_count": 6,
   "metadata": {},
   "outputs": [
    {
     "data": {
      "text/plain": [
       "<title>The Project Gutenberg eBook of On Handling the Data, by M. I. Mayfield</title>"
      ]
     },
     "execution_count": 6,
     "metadata": {},
     "output_type": "execute_result"
    }
   ],
   "source": [
    "# Get soup title\n",
    "soup.title"
   ]
  },
  {
   "cell_type": "markdown",
   "metadata": {},
   "source": [
    "Or the title as a string:"
   ]
  },
  {
   "cell_type": "code",
   "execution_count": 7,
   "metadata": {},
   "outputs": [
    {
     "data": {
      "text/plain": [
       "'The Project Gutenberg eBook of On Handling the Data, by M. I. Mayfield'"
      ]
     },
     "execution_count": 7,
     "metadata": {},
     "output_type": "execute_result"
    }
   ],
   "source": [
    "# Get soup title as string\n",
    "soup.title.string"
   ]
  },
  {
   "cell_type": "markdown",
   "metadata": {},
   "source": [
    "Or all URLs found within a page’s < a > tags (hyperlinks):"
   ]
  },
  {
   "cell_type": "code",
   "execution_count": 8,
   "metadata": {},
   "outputs": [
    {
     "data": {
      "text/plain": [
       "[<a href=\"http://www.gutenberg.org\">www.gutenberg.org</a>,\n",
       " <a id=\"Page_137\" name=\"Page_137\">[137]</a>,\n",
       " <a id=\"Page_138\" name=\"Page_138\">[138]</a>,\n",
       " <a id=\"Page_139\" name=\"Page_139\">[139]</a>,\n",
       " <a id=\"Page_140\" name=\"Page_140\">[140]</a>,\n",
       " <a id=\"Page_141\" name=\"Page_141\">[141]</a>,\n",
       " <a id=\"Page_142\" name=\"Page_142\">[142]</a>,\n",
       " <a id=\"Page_143\" name=\"Page_143\">[143]</a>]"
      ]
     },
     "execution_count": 8,
     "metadata": {},
     "output_type": "execute_result"
    }
   ],
   "source": [
    "# Get hyperlinks from soup and check out first several\n",
    "soup.findAll('a')[:8]"
   ]
  },
  {
   "cell_type": "markdown",
   "metadata": {},
   "source": [
    "What you want to do is to extract the text from the `soup` and there's a super helpful `.get_text()` method precisely for this. \n",
    "\n",
    "Get the text, print it out and have a look at it. Is it what you want?"
   ]
  },
  {
   "cell_type": "code",
   "execution_count": 11,
   "metadata": {},
   "outputs": [
    {
     "name": "stdout",
     "output_type": "stream",
     "text": [
      "\n",
      "\n",
      "The Project Gutenberg eBook of On Handling the Data, by M. I. Mayfield\n",
      "    \n",
      "/*<![CDATA[  XML blockout */\n",
      "<!--\n",
      " a {text-decoration:none; color:blue;}\n",
      " a:visited {color:gray;}\n",
      " body {margin-left: 15%; margin-right: 15%;}\n",
      " h1,h2,h3 {text-align: center; clear: both;}\n",
      " h3 {margin:0 auto 0 auto;}\n",
      " hr {width:65%; margin:2em auto 2em auto; clear:both; text-align:center;}\n",
      " hr.full {width: 100%;}\n",
      " hr.minor {width: 45%; margin:1em auto 1em auto; clear:both;}\n",
      " blockquote {margin-left:5%; margin-right:10%;}\n",
      " p {margin-top:.75em; text-align:justify; margin-bottom:.75em; text-indent:1.5em;}\n",
      " p.noin {text-indent:0;}\n",
      " p.hi {margin-left: 1em; text-indent:-1em;}\n",
      " .b {font-weight:bold;}\n",
      " .bbox {border:solid 1px; padding:1em; margin:2em 10% 2em 10%;}\n",
      " .c {text-align:center;}\n",
      " .figleft {float:left; clear:left; margin:1em 1em 1em 0; padding:0; text-align:center;}\n",
      " .i {font-style:italic;}\n",
      " .mt2 {margin-top:2em;}\n",
      " .pagenum {position:absolute; left:95%; font-style:normal; font-size:smaller; text-align:right; text-indent:0;}\n",
      " .ralign {position:absolute; right:20%; text-align:right;}\n",
      " .sf30 {font-size:30%;}\n",
      " .sf50 {font-size:50%;}\n",
      " .sf75 {font-size:75%;}\n",
      "    hr.pg   { width: 100%;\n",
      "              margin-top: 3em;\n",
      "              margin-bottom: 0em;\n",
      "              margin-left: auto;\n",
      "              margin-right: auto;\n",
      "              height: 4px;\n",
      "              border-width: 4px 0 0 0; /* remove all borders except the top one */\n",
      "              border-style: solid;\n",
      "              border-color: #000000;\n",
      "              clear: both; }\n",
      "    pre      {font-size: 85%;}\n",
      "    // -->\n",
      "    /* XML end  ]]>*/\n",
      "    \n",
      "\n",
      "\n",
      "The Project Gutenberg eBook, On Handling the Data, by M. I. Mayfield,\n",
      "Illustrated by  Freas\n",
      "This eBook is for the use of anyone anywhere at no cost and with\n",
      "almost no restrictions whatsoever.  You may copy it, give it away or\n",
      "re-use it under the terms of the Project Gutenberg License included\n",
      "with this eBook or online at www.gutenberg.org\n",
      "Title: On Handling the Data\n",
      "Author: M. I. Mayfield\n",
      "Release Date: November 10, 2007  [eBook #23429]\n",
      "Language: English\n",
      "Character set encoding: ISO-8859-1\n",
      "***START OF THE PROJECT GUTENBERG EBOOK ON HANDLING THE DATA***\n",
      " \n",
      "E-text prepared by Greg Weeks, Bruce Albrecht, L. N. Yaddanapudi,\n",
      "    and the Project Gutenberg Online Distributed Proofreading Team\n",
      "    (http://www.pgdp.net)\n",
      " \n",
      "\n",
      " \n",
      "\n",
      "[137]\n",
      "\n",
      "\n",
      "\n",
      "… ON … HANDLING THE DATA\n",
      "\n",
      "BY M. I. MAYFIELD\n",
      "\n",
      "Illustrated by Freas\n",
      "\n",
      "Sometimes a story is best told by omission—!\n",
      "\n",
      "\n",
      "\n",
      "September 16, 1957\n",
      "\n",
      "Dr. Robert Von Engen, Editor\n",
      "Journal of the National Academy of Sciences,\n",
      "Constitution Avenue, N. W.,\n",
      "Washington, D. C.\n",
      "\n",
      "Dear Sir:\n",
      "\n",
      "I am taking the liberty of writing you this letter since I read your\n",
      "published volume, “Logical Control: The Computer vs. Brain”\n",
      "(Silliman Memorial Lecture Series, 1957), with the hope that you can\n",
      "perhaps offer me some advice and also publish this letter in the\n",
      "editorial section. Your mathematical viewpoint on the analysis between\n",
      "computing machines and the living human brain, especially the conclusion\n",
      "that the brain operates in part digitally and in part analogically,\n",
      "using its own statistical language involving selection, conditional\n",
      "transfer orders, branching, and control sequence points, et cetera,\n",
      "makes me feel that only you can offer me some information with logical\n",
      "arithmetic depth.\n",
      "\n",
      "The questions raised in this letter are designed principally to reach\n",
      "the embryonic and juvenile scientists … the scientists-elect, so to\n",
      "speak. (I think the “mature scientists” are irretrievably\n",
      "lost.) For many reasons, some of which will be explained in the\n",
      "following paragraphs, I think that it is of the greatest importance that\n",
      "some stimulatable audience be [138]\n",
      "reached. As yet, the beginners have no rigid scientific biases and thus\n",
      "may have sufficient curiosity and flexibility about the world in which\n",
      "they live to approach experimentation with a mind devoid of “the\n",
      "hierarchy of memory registers which have programmed in erroneous\n",
      "data.”\n",
      "\n",
      "What I have to say will not surprise nor shock you, or those who are\n",
      "at present engaged in scientific investigation. In fact, I have read\n",
      "many science-fiction stories that deal with the same problem. Perhaps\n",
      "that is the only way that it can be approached, through the medium of a\n",
      "story? Yet why not present it for what it may be? Let me tell it my own\n",
      "way, and then, please, let me have your coldly logical opinion.\n",
      "\n",
      "As to my background, I am a graduate student in the Zoology Department\n",
      "of a midwestern university working toward a Master’s degree, or\n",
      "actually a doctorate—we can bypass the M.S. if we choose—in the field\n",
      "of Cellular Physiology. My sponsor is an internationally known man in\n",
      "the field. The area of research that I have selected is concerned with\n",
      "the effects of physical and chemical agents on the synthesis of nucleic\n",
      "acids of the cell. Obviously, this is a big field, and I hope to select\n",
      "from among the different agents, one or two that will give\n",
      "“positive results.” I have been doing active research for\n",
      "about half a year testing the different agents. As for the fundamental\n",
      "questions raised, I am positive that it would make no difference in\n",
      "what field of science I were to work.\n",
      "\n",
      "By now I have had enough course work to realize that when performing any\n",
      "assigned laboratory exercise—they should not be called\n",
      "experiments—even of a cook-book type, little or even major\n",
      "discrepancies arise, and always on the initial trials, no matter how\n",
      "carefully one works! As you are probably aware, the teaching assistant\n",
      "in charge of the lab or the instructor, generally runs through the\n",
      "exercise before the class does in order to get the “bugs”\n",
      "out of it—I am deliberately generalizing, since the above holds for all\n",
      "of the laboratory sciences—so when the student gets confusing or rather\n",
      "contradictory results, the instructor can deftly point out the error in\n",
      "the setup or calculations, or what have you. He may even indicate\n",
      "what results may be expected. The last is critical. Similarly other\n",
      "students in the laboratory usually have friends who have had the course\n",
      "before and know what results are expected—this technique is frowned\n",
      "upon. Or one may consult textbooks and published papers. (This, by the\n",
      "way, is known as library research, and is generally conceded to be\n",
      "indicative of the superior student, especially if he points out the fact\n",
      "that he is so interested that he just had to delve into the\n",
      "literature.) By any technique, the expected results are always\n",
      "obtained. Always. And by everyone. The initial confusions—that some\n",
      "honest students perpetuate—are easily [139]\n",
      "brushed aside as errors due to inexperience, sloppiness, lack of\n",
      "initiative, stupidity of congenital sort, et cetera, et cetera.\n",
      "\n",
      "Since being a teaching fellow, even simple cook-book experiments\n",
      "don’t seem as cook-bookish. Some pretty weird things have happened\n",
      "when I tried out an exercise prior to the class. Fortunately, I was\n",
      "taught to keep data—in duplicate: indelible purple Hexostick original\n",
      "and carbon copy. These, vide infra, are a few of such happenings.\n",
      "\n",
      "\n",
      "Elementary General Physiology Laboratory:\n",
      "\n",
      "1. Initial maximal vagal stimulation:\n",
      "\n",
      "Expected results: inhibition of heart beat.\n",
      "\n",
      "Obtained results: one series of increased heart beats. (Possible\n",
      "explanation: I missed the vagus nerve)????\n",
      "\n",
      "2. Frog nerve-muscle preparation:\n",
      "\n",
      "Expected results: a single muscle twitch.\n",
      "\n",
      "Obtained results: a beautiful nerve twitch.\n",
      "\n",
      "(Explanation: Eyesight? How can nerves twitch?)??\n",
      "\n",
      "3. Hypotonic hemolysis:\n",
      "\n",
      "Expected results: red blood cell destruction.\n",
      "\n",
      "Obtained results: crenation.\n",
      "\n",
      "(Explanation: switched salt solutions unconsciously)?????\n",
      "\n",
      "4. Curarized muscle preparation:\n",
      "\n",
      "Expected results: a synaptic block with no response of nerve when\n",
      "stimulated.\n",
      "\n",
      "Observed results: a typical strychnine response, violent\n",
      "tetanus, et cetera.\n",
      "\n",
      "(Explanation: again, I switched bottles)????\n",
      "\n",
      "5. I shall avoid the obvious mention of mishaps with mechanical or\n",
      "electrical pieces of equipment. I assure you there were similar\n",
      "deviations in initial attempts.\n",
      "\n",
      "Since I realize that you are preparing a paper on Memory Registers:\n",
      "Stimulation Criteria, for the VIth Annual International Meeting of the\n",
      "Society of Theoretical Biomathematicians in London, and are short of\n",
      "time, I shall avoid going into the same kind of detail as the above for\n",
      "other Biology Labs, and get into the real heart of the thing … the\n",
      "research problem. (After all that is what both of us are interested in.)\n",
      "By the way, please send me a reprint of the paper when it comes out.\n",
      "\n",
      "I guess I am really hepped up on this, because I’ve just got to\n",
      "point out for emphasis other incidences usually of a type that involved\n",
      "missing a whole organ in dissections or a tissue structure in histology\n",
      "only on the first study, and then re-reading the assignment—after\n",
      "knowing what to look for—and subsequently finding it exactly where it\n",
      "is said to be. (Ever hunt for an unknown quality—or quantity?) So it\n",
      "was there all the time, sloppy technique? Or is this branching at a\n",
      "control point? cf. LC: C. vs. B. p. 251.\n",
      "\n",
      "To get back to my thesis research, [140]\n",
      "the pieces of equipment that I have been using in the research are\n",
      "fairly standard in physiological research: a Beckman spectrophotometer,\n",
      "a Coleman photometer, a van Slyke amino nitrogen apparatus, a Warburg\n",
      "respirometer, pH meters, Kjeldahls, Thunbergs, et cetera. Mostly,\n",
      "I’m in the process of getting used to them. Also there is a high\n",
      "voltage X-ray generator, U. V. source and other equipment for\n",
      "irradiation purposes. We also have an A. E. C. license so that we can\n",
      "get at least microcurie amounts of the usual isotopes for\n",
      "radioautographic work.\n",
      "\n",
      "Now the literature in my area is pretty controversial. (You can\n",
      "appreciate that, especially since Bergbottom at the Kaiser Wilhelm\n",
      "Institute bombarded you with criticisms of your theories.) Different and\n",
      "actually contradictory results have been obtained for the same substance\n",
      "in the same organism, e. g. alkaline phosphatase in the frog liver\n",
      "cell (Monnenblick, ’55, Tripp, ’56, and Stone, ’57).\n",
      "To give an example, when I start a run for respiration effects using a\n",
      "Warburg I don’t know what results to expect. Whenever this has\n",
      "been the case, my results have been confusing … to say the least.\n",
      "\n",
      "On nitrogen-mustard treated cells, in some instances the controls\n",
      "respired significantly more—even with a statistical analysis of\n",
      "variance—in some instances the experimentals respired significantly\n",
      "more; and in other cases the respiration for both was exactly the\n",
      "same—even closer than the expected deviations that should be found in\n",
      "any random population. One run, the blank run, containing no cells …\n",
      "and grease-free … consumed the greatest amount of oxygen. To cut this\n",
      "letter short, the same inconstancies apply to other trials that I have\n",
      "made. Whenever I didn’t know what to expect, and particularly\n",
      "where the literature was controversial, my results have been completely\n",
      "haywire.\n",
      "\n",
      "Needless to say, I was not happy with this so I discussed it with other\n",
      "graduate students. They have all encountered the same thing! But most\n",
      "professors won’t admit this to be true and merely tell me that my\n",
      "technique is lousy. If anything, I am an overly careful worker. Why is\n",
      "it when I know what results are expected, I get comparable results\n",
      "even on the first trial?\n",
      "\n",
      "Remember, I obtained the expected results when the literature\n",
      "wasn’t confused or when my sponsor—a most important man in my\n",
      "life—gave me a clue as to what kind of results to expect. Only then.\n",
      "\n",
      "Now this is the heart of the matter… The obvious explanation is the\n",
      "lack of experience. But, and this is what haunts me … what if those\n",
      "so-called contradictory results are meaningful? What if they were\n",
      "executed with care—and they were—and are not the results of\n",
      "sloppiness or inexperience? What if a nerve can twitch?\n",
      "\n",
      "Very respectfully yours,\n",
      "Jonathan Wells\n",
      "\n",
      "[141]\n",
      "\n",
      "May 3, 1958\n",
      "\n",
      "Dr. Robert Von Engen,\n",
      "Editor, Journal of the National Academy of Sciences,\n",
      "Constitution Avenue,\n",
      "Washington, D. C.\n",
      "\n",
      "Dear Dr. Von Engen:\n",
      "\n",
      "I would like to thank you for your encouraging letter and advice. I\n",
      "agree completely with your statement that science has a long way to go\n",
      "before we can explain the various inconsistencies that crop up in\n",
      "research. But I certainly can’t see how the letter is far too\n",
      "“unsophisticated” for inclusion in the Letters to the\n",
      "Editor portion of your journal. While your letter should have calmed\n",
      "me, I feel even more strongly now after a year of research about the\n",
      "matter than I did before. I have deliberately postponed answering your\n",
      "letter until I had more facts.\n",
      "\n",
      "I now find that I have accumulated—as you suggested—three distinctly\n",
      "conflicting groups of data on nucleic acid synthesis of frog liver\n",
      "cells:\n",
      "\n",
      "1. There is a conversion of ribonucleic acid to desoxyribonucleic acid.\n",
      "\n",
      "2. There is a conversion of desoxyribonucleic acid to ribonucleic acid.\n",
      "\n",
      "3. The synthesis of both types of nucleic acid are independent of each\n",
      "other. (In addition, I have some data … that I don’t want to\n",
      "think about too much … that shows that there is absolutely no nucleic\n",
      "acid in the liver cell.) Thus, these data all accumulated by\n",
      "experimental work, support all three hypotheses. Moreover, the\n",
      "literature supports all three hypotheses. I intend to go to the Woods\n",
      "Hole, Massachusetts Marine Lab this summer with my sponsor and get some\n",
      "new ideas there, especially since Professor Gould M. Rice from the\n",
      "University of London will be there presenting a seminar series on his\n",
      "work in nucleic acid synthesis in Oryzias.\n",
      "\n",
      "The point is not that there is a conflict in the data, but that the data\n",
      "conflict because there is a conflict in my mind and in the literature.\n",
      "Don’t you see it? As you said on page 20 of “Logical\n",
      "Control: Computer vs. Brain”: “the order-system—this means\n",
      "the problem to be solved, the interaction of the user—is communicated\n",
      "to the machine by ‘loading’ it into the memory.”\n",
      "\n",
      "Sincerely yours,\n",
      "Jonathan\n",
      "\n",
      "August 31, 1958\n",
      "\n",
      "Dr. Robert Von Engen,\n",
      "Journal of the National Academy of Sciences,\n",
      "Constitution Avenue,\n",
      "Washington, D. C.\n",
      "\n",
      "Dear Dr. Bob:\n",
      "\n",
      "Again, many thanks for your letter—and encouragement. I especially\n",
      "treasure the inscribed copy of “Logical Control: Computer vs.\n",
      "Brain,” and the current reprint. I am sorry that I didn’t\n",
      "get an opportunity to get down to Washington en route to Woods Hole and\n",
      "talk over the [142]\n",
      "whole thing over a bottle of beer, dark beer. From what I hear of the\n",
      "demands on a first-rate mathematician’s time these days, you\n",
      "should be grateful that I didn’t get to see you, because I would\n",
      "have monopolized all your time. I appreciate your generosity in\n",
      "extending the invitation as a rain check to me.\n",
      "\n",
      "Your mention of the Duke School of “psychology”—my\n",
      "quotes—leaves me cold. It’s too obvious and puts the cart before\n",
      "the horse. The important point that I was trying to make dealt not with\n",
      "the “possible parapsychological” manipulation of equipment\n",
      "or the materials a la telekinesis to produce the desired results, but\n",
      "that our Science may not be studying natural phenomena and trying to\n",
      "interpret them at all. The point, to get it down in black and white, is\n",
      "that our “Science”—yes, quotes—may be inventing the\n",
      "reality that it is supposedly studying. Inventing the atoms, molecules,\n",
      "cells, nuclei, et cetera … and then describing them, and in the\n",
      "description giving them reality.\n",
      "\n",
      "While I was at Woods Hole I had some really good bull sessions about\n",
      "this very thing. I realize now that I may have been falling into the\n",
      "trap of solipsism, “who watches the quad,” et cetera, type\n",
      "of thing. Incidentally, my research is finally beginning to fall into\n",
      "shape. My sponsor and I had some pretty good sessions about it, and some\n",
      "of the screwy results I wrote you begin to make sense. I had the good\n",
      "luck to talk to an outstanding man in the field of nucleic acid\n",
      "synthesis and he was quite enthusiastic about the caliber of our work.\n",
      "He feels quite strongly—but has no real evidence—that the synthesis of\n",
      "both types of nucleic acid are independent of each other and has pointed\n",
      "out some significant references that I did not know about. I’m\n",
      "anxious to buckle down and really lick this nucleic acid problem … in\n",
      "time for a June degree.\n",
      "\n",
      "Cordially,\n",
      "Jonathan\n",
      "\n",
      "P.S.\n",
      "\n",
      "Please send me a reprint of your lecture on “Memory\n",
      "Banks—Transistorized Neurones.” The lecture was ingenious, but\n",
      "there are some biological phenomena with which I don’t agree.\n",
      "Remember, I’m the biologist. Honestly, Doc, don’t you\n",
      "think—entre nous—that your idea that a living organism, can be\n",
      "compared with automata in picking up informational items and processing\n",
      "them simultaneously in parallel, rather than in series, is naif?\n",
      "\n",
      "J.\n",
      "\n",
      "October 28, 1958\n",
      "\n",
      "Dr. R. Von Engen,\n",
      "Journal of the National Academy of Sciences,\n",
      "Washington, D. C.\n",
      "\n",
      "Dear Dr. Von Engen:\n",
      "\n",
      "I apologize for not answering your letter sooner. I assume you were\n",
      "pulling my leg when you suggested that I make a science-fiction story\n",
      "out of “the confused ideas of a beginning graduate student.”\n",
      "You might [143]\n",
      "give your idea of a “possible science-fiction story” to\n",
      "one of your acolytes that has some small experience in the field of\n",
      "writing—not science. I am afraid that your other suggestions are\n",
      "not germane to the problem of nucleic acid synthesis and metabolism, a\n",
      "problem that has been occupying all my time. In fact, I’ve been\n",
      "doing with three to four hours of sleep these days. With the kind of\n",
      "concentration that I can offer the problem, there is no question that\n",
      "the data are falling into line, and our research is going rather well.\n",
      "We will show, I hope, fairly conclusively that there is little or no\n",
      "interconversion between the two types of nucleic acid synthesis in the\n",
      "cell.\n",
      "\n",
      "Despite your ingenious mathematical approaches for stimulation criteria,\n",
      "in biological research—a very abstruse field—even your multiplex\n",
      "machines with elaborate means of intercommunication are not\n",
      "sophisticated enough—or ever will be—to cope with the complexities\n",
      "inherent in the numerous interacting biosyntheses on the subcellular\n",
      "ultratopographical level of protoplasm.\n",
      "\n",
      "Sincerely yours,\n",
      "Jonathan Wells\n",
      "\n",
      "November 8, 1958\n",
      "\n",
      "The Editor,\n",
      "Journal of the National Academy of Sciences,\n",
      "Washington, D. C.\n",
      "\n",
      "My dear Professor Von Engen:\n",
      "\n",
      "From the tenor of your last letter it is quite evident that there has\n",
      "been a radical change in your originally sound and inspired ideas, and\n",
      "which clearly indicates to me that a discussion and exchange of basic\n",
      "concept would be fruitless. I’m rather hurt that you question my\n",
      "integrity with the statement about the “slick, calculating,\n",
      "career-minded cult of Ph. Deism.” Moreover, I would appreciate, if\n",
      "possible, the return of my previous correspondence.\n",
      "\n",
      "I don’t feel that I am totally inept, for I have been awarded a\n",
      "predoctoral fellowship that will support me during the remainder of\n",
      "graduate school. In addition, I am being seriously considered for a\n",
      "faculty position at an outstanding Eastern University upon completion of\n",
      "my thesis. Should you be interested, we now have an article in press on\n",
      "the Journal of Cellular Physiology entitled: “Nucleic acid\n",
      "synthesis in the frog liver cell: A definitive study.” We have\n",
      "found substantial evidence which demonstrates that there is no\n",
      "interconversion of the two types of nucleic acid.\n",
      "\n",
      "I cannot help but comment about your recent paper in Scientia—I do\n",
      "not believe that it is at all possible to devise computers which can\n",
      "handle the species of data which we obtain. Your data being less\n",
      "complex, of course, may fit.\n",
      "\n",
      "Naturally, I have your confidence in the entire matter.\n",
      "\n",
      "Yours very truly,\n",
      "J. Wellington Wells\n",
      " \n",
      " \n",
      "\n",
      "\n",
      "Transcriber’s Note\n",
      "\n",
      "This e-text was produced from Astounding Science Fiction, September,\n",
      "1959. Extensive research did not uncover any evidence that the U.S.\n",
      "copyright on this publication was renewed.\n",
      "\n",
      "\n",
      " \n",
      "\n",
      "***END OF THE PROJECT GUTENBERG EBOOK ON HANDLING THE DATA***\n",
      "******* This file should be named 23429-h.txt or 23429-h.zip *******\n",
      "This and all associated files of various formats will be found in:\n",
      "http://www.gutenberg.org/2/3/4/2/23429\n",
      "Updated editions will replace the previous one--the old editions\n",
      "will be renamed.\n",
      "\n",
      "Creating the works from public domain print editions means that no\n",
      "one owns a United States copyright in these works, so the Foundation\n",
      "(and you!) can copy and distribute it in the United States without\n",
      "permission and without paying copyright royalties.  Special rules,\n",
      "set forth in the General Terms of Use part of this license, apply to\n",
      "copying and distributing Project Gutenberg-tm electronic works to\n",
      "protect the PROJECT GUTENBERG-tm concept and trademark.  Project\n",
      "Gutenberg is a registered trademark, and may not be used if you\n",
      "charge for the eBooks, unless you receive specific permission.  If you\n",
      "do not charge anything for copies of this eBook, complying with the\n",
      "rules is very easy.  You may use this eBook for nearly any purpose\n",
      "such as creation of derivative works, reports, performances and\n",
      "research.  They may be modified and printed and given away--you may do\n",
      "practically ANYTHING with public domain eBooks.  Redistribution is\n",
      "subject to the trademark license, especially commercial\n",
      "redistribution.\n",
      "\n",
      "\n",
      "\n",
      "*** START: FULL LICENSE ***\n",
      "\n",
      "THE FULL PROJECT GUTENBERG LICENSE\n",
      "PLEASE READ THIS BEFORE YOU DISTRIBUTE OR USE THIS WORK\n",
      "\n",
      "To protect the Project Gutenberg-tm mission of promoting the free\n",
      "distribution of electronic works, by using or distributing this work\n",
      "(or any other work associated in any way with the phrase \"Project\n",
      "Gutenberg\"), you agree to comply with all the terms of the Full Project\n",
      "Gutenberg-tm License (available with this file or online at\n",
      "http://www.gutenberg.org/license).\n",
      "\n",
      "\n",
      "Section 1.  General Terms of Use and Redistributing Project Gutenberg-tm\n",
      "electronic works\n",
      "\n",
      "1.A.  By reading or using any part of this Project Gutenberg-tm\n",
      "electronic work, you indicate that you have read, understand, agree to\n",
      "and accept all the terms of this license and intellectual property\n",
      "(trademark/copyright) agreement.  If you do not agree to abide by all\n",
      "the terms of this agreement, you must cease using and return or destroy\n",
      "all copies of Project Gutenberg-tm electronic works in your possession.\n",
      "If you paid a fee for obtaining a copy of or access to a Project\n",
      "Gutenberg-tm electronic work and you do not agree to be bound by the\n",
      "terms of this agreement, you may obtain a refund from the person or\n",
      "entity to whom you paid the fee as set forth in paragraph 1.E.8.\n",
      "\n",
      "1.B.  \"Project Gutenberg\" is a registered trademark.  It may only be\n",
      "used on or associated in any way with an electronic work by people who\n",
      "agree to be bound by the terms of this agreement.  There are a few\n",
      "things that you can do with most Project Gutenberg-tm electronic works\n",
      "even without complying with the full terms of this agreement.  See\n",
      "paragraph 1.C below.  There are a lot of things you can do with Project\n",
      "Gutenberg-tm electronic works if you follow the terms of this agreement\n",
      "and help preserve free future access to Project Gutenberg-tm electronic\n",
      "works.  See paragraph 1.E below.\n",
      "\n",
      "1.C.  The Project Gutenberg Literary Archive Foundation (\"the Foundation\"\n",
      "or PGLAF), owns a compilation copyright in the collection of Project\n",
      "Gutenberg-tm electronic works.  Nearly all the individual works in the\n",
      "collection are in the public domain in the United States.  If an\n",
      "individual work is in the public domain in the United States and you are\n",
      "located in the United States, we do not claim a right to prevent you from\n",
      "copying, distributing, performing, displaying or creating derivative\n",
      "works based on the work as long as all references to Project Gutenberg\n",
      "are removed.  Of course, we hope that you will support the Project\n",
      "Gutenberg-tm mission of promoting free access to electronic works by\n",
      "freely sharing Project Gutenberg-tm works in compliance with the terms of\n",
      "this agreement for keeping the Project Gutenberg-tm name associated with\n",
      "the work.  You can easily comply with the terms of this agreement by\n",
      "keeping this work in the same format with its attached full Project\n",
      "Gutenberg-tm License when you share it without charge with others.\n",
      "\n",
      "1.D.  The copyright laws of the place where you are located also govern\n",
      "what you can do with this work.  Copyright laws in most countries are in\n",
      "a constant state of change.  If you are outside the United States, check\n",
      "the laws of your country in addition to the terms of this agreement\n",
      "before downloading, copying, displaying, performing, distributing or\n",
      "creating derivative works based on this work or any other Project\n",
      "Gutenberg-tm work.  The Foundation makes no representations concerning\n",
      "the copyright status of any work in any country outside the United\n",
      "States.\n",
      "\n",
      "1.E.  Unless you have removed all references to Project Gutenberg:\n",
      "\n",
      "1.E.1.  The following sentence, with active links to, or other immediate\n",
      "access to, the full Project Gutenberg-tm License must appear prominently\n",
      "whenever any copy of a Project Gutenberg-tm work (any work on which the\n",
      "phrase \"Project Gutenberg\" appears, or with which the phrase \"Project\n",
      "Gutenberg\" is associated) is accessed, displayed, performed, viewed,\n",
      "copied or distributed:\n",
      "\n",
      "This eBook is for the use of anyone anywhere at no cost and with\n",
      "almost no restrictions whatsoever.  You may copy it, give it away or\n",
      "re-use it under the terms of the Project Gutenberg License included\n",
      "with this eBook or online at www.gutenberg.org\n",
      "\n",
      "1.E.2.  If an individual Project Gutenberg-tm electronic work is derived\n",
      "from the public domain (does not contain a notice indicating that it is\n",
      "posted with permission of the copyright holder), the work can be copied\n",
      "and distributed to anyone in the United States without paying any fees\n",
      "or charges.  If you are redistributing or providing access to a work\n",
      "with the phrase \"Project Gutenberg\" associated with or appearing on the\n",
      "work, you must comply either with the requirements of paragraphs 1.E.1\n",
      "through 1.E.7 or obtain permission for the use of the work and the\n",
      "Project Gutenberg-tm trademark as set forth in paragraphs 1.E.8 or\n",
      "1.E.9.\n",
      "\n",
      "1.E.3.  If an individual Project Gutenberg-tm electronic work is posted\n",
      "with the permission of the copyright holder, your use and distribution\n",
      "must comply with both paragraphs 1.E.1 through 1.E.7 and any additional\n",
      "terms imposed by the copyright holder.  Additional terms will be linked\n",
      "to the Project Gutenberg-tm License for all works posted with the\n",
      "permission of the copyright holder found at the beginning of this work.\n",
      "\n",
      "1.E.4.  Do not unlink or detach or remove the full Project Gutenberg-tm\n",
      "License terms from this work, or any files containing a part of this\n",
      "work or any other work associated with Project Gutenberg-tm.\n",
      "\n",
      "1.E.5.  Do not copy, display, perform, distribute or redistribute this\n",
      "electronic work, or any part of this electronic work, without\n",
      "prominently displaying the sentence set forth in paragraph 1.E.1 with\n",
      "active links or immediate access to the full terms of the Project\n",
      "Gutenberg-tm License.\n",
      "\n",
      "1.E.6.  You may convert to and distribute this work in any binary,\n",
      "compressed, marked up, nonproprietary or proprietary form, including any\n",
      "word processing or hypertext form.  However, if you provide access to or\n",
      "distribute copies of a Project Gutenberg-tm work in a format other than\n",
      "\"Plain Vanilla ASCII\" or other format used in the official version\n",
      "posted on the official Project Gutenberg-tm web site (www.gutenberg.org),\n",
      "you must, at no additional cost, fee or expense to the user, provide a\n",
      "copy, a means of exporting a copy, or a means of obtaining a copy upon\n",
      "request, of the work in its original \"Plain Vanilla ASCII\" or other\n",
      "form.  Any alternate format must include the full Project Gutenberg-tm\n",
      "License as specified in paragraph 1.E.1.\n",
      "\n",
      "1.E.7.  Do not charge a fee for access to, viewing, displaying,\n",
      "performing, copying or distributing any Project Gutenberg-tm works\n",
      "unless you comply with paragraph 1.E.8 or 1.E.9.\n",
      "\n",
      "1.E.8.  You may charge a reasonable fee for copies of or providing\n",
      "access to or distributing Project Gutenberg-tm electronic works provided\n",
      "that\n",
      "\n",
      "- You pay a royalty fee of 20% of the gross profits you derive from\n",
      "     the use of Project Gutenberg-tm works calculated using the method\n",
      "     you already use to calculate your applicable taxes.  The fee is\n",
      "     owed to the owner of the Project Gutenberg-tm trademark, but he\n",
      "     has agreed to donate royalties under this paragraph to the\n",
      "     Project Gutenberg Literary Archive Foundation.  Royalty payments\n",
      "     must be paid within 60 days following each date on which you\n",
      "     prepare (or are legally required to prepare) your periodic tax\n",
      "     returns.  Royalty payments should be clearly marked as such and\n",
      "     sent to the Project Gutenberg Literary Archive Foundation at the\n",
      "     address specified in Section 4, \"Information about donations to\n",
      "     the Project Gutenberg Literary Archive Foundation.\"\n",
      "\n",
      "- You provide a full refund of any money paid by a user who notifies\n",
      "     you in writing (or by e-mail) within 30 days of receipt that s/he\n",
      "     does not agree to the terms of the full Project Gutenberg-tm\n",
      "     License.  You must require such a user to return or\n",
      "     destroy all copies of the works possessed in a physical medium\n",
      "     and discontinue all use of and all access to other copies of\n",
      "     Project Gutenberg-tm works.\n",
      "\n",
      "- You provide, in accordance with paragraph 1.F.3, a full refund of any\n",
      "     money paid for a work or a replacement copy, if a defect in the\n",
      "     electronic work is discovered and reported to you within 90 days\n",
      "     of receipt of the work.\n",
      "\n",
      "- You comply with all other terms of this agreement for free\n",
      "     distribution of Project Gutenberg-tm works.\n",
      "\n",
      "1.E.9.  If you wish to charge a fee or distribute a Project Gutenberg-tm\n",
      "electronic work or group of works on different terms than are set\n",
      "forth in this agreement, you must obtain permission in writing from\n",
      "both the Project Gutenberg Literary Archive Foundation and Michael\n",
      "Hart, the owner of the Project Gutenberg-tm trademark.  Contact the\n",
      "Foundation as set forth in Section 3 below.\n",
      "\n",
      "1.F.\n",
      "\n",
      "1.F.1.  Project Gutenberg volunteers and employees expend considerable\n",
      "effort to identify, do copyright research on, transcribe and proofread\n",
      "public domain works in creating the Project Gutenberg-tm\n",
      "collection.  Despite these efforts, Project Gutenberg-tm electronic\n",
      "works, and the medium on which they may be stored, may contain\n",
      "\"Defects,\" such as, but not limited to, incomplete, inaccurate or\n",
      "corrupt data, transcription errors, a copyright or other intellectual\n",
      "property infringement, a defective or damaged disk or other medium, a\n",
      "computer virus, or computer codes that damage or cannot be read by\n",
      "your equipment.\n",
      "\n",
      "1.F.2.  LIMITED WARRANTY, DISCLAIMER OF DAMAGES - Except for the \"Right\n",
      "of Replacement or Refund\" described in paragraph 1.F.3, the Project\n",
      "Gutenberg Literary Archive Foundation, the owner of the Project\n",
      "Gutenberg-tm trademark, and any other party distributing a Project\n",
      "Gutenberg-tm electronic work under this agreement, disclaim all\n",
      "liability to you for damages, costs and expenses, including legal\n",
      "fees.  YOU AGREE THAT YOU HAVE NO REMEDIES FOR NEGLIGENCE, STRICT\n",
      "LIABILITY, BREACH OF WARRANTY OR BREACH OF CONTRACT EXCEPT THOSE\n",
      "PROVIDED IN PARAGRAPH F3.  YOU AGREE THAT THE FOUNDATION, THE\n",
      "TRADEMARK OWNER, AND ANY DISTRIBUTOR UNDER THIS AGREEMENT WILL NOT BE\n",
      "LIABLE TO YOU FOR ACTUAL, DIRECT, INDIRECT, CONSEQUENTIAL, PUNITIVE OR\n",
      "INCIDENTAL DAMAGES EVEN IF YOU GIVE NOTICE OF THE POSSIBILITY OF SUCH\n",
      "DAMAGE.\n",
      "\n",
      "1.F.3.  LIMITED RIGHT OF REPLACEMENT OR REFUND - If you discover a\n",
      "defect in this electronic work within 90 days of receiving it, you can\n",
      "receive a refund of the money (if any) you paid for it by sending a\n",
      "written explanation to the person you received the work from.  If you\n",
      "received the work on a physical medium, you must return the medium with\n",
      "your written explanation.  The person or entity that provided you with\n",
      "the defective work may elect to provide a replacement copy in lieu of a\n",
      "refund.  If you received the work electronically, the person or entity\n",
      "providing it to you may choose to give you a second opportunity to\n",
      "receive the work electronically in lieu of a refund.  If the second copy\n",
      "is also defective, you may demand a refund in writing without further\n",
      "opportunities to fix the problem.\n",
      "\n",
      "1.F.4.  Except for the limited right of replacement or refund set forth\n",
      "in paragraph 1.F.3, this work is provided to you 'AS-IS,' WITH NO OTHER\n",
      "WARRANTIES OF ANY KIND, EXPRESS OR IMPLIED, INCLUDING BUT NOT LIMITED TO\n",
      "WARRANTIES OF MERCHANTIBILITY OR FITNESS FOR ANY PURPOSE.\n",
      "\n",
      "1.F.5.  Some states do not allow disclaimers of certain implied\n",
      "warranties or the exclusion or limitation of certain types of damages.\n",
      "If any disclaimer or limitation set forth in this agreement violates the\n",
      "law of the state applicable to this agreement, the agreement shall be\n",
      "interpreted to make the maximum disclaimer or limitation permitted by\n",
      "the applicable state law.  The invalidity or unenforceability of any\n",
      "provision of this agreement shall not void the remaining provisions.\n",
      "\n",
      "1.F.6.  INDEMNITY - You agree to indemnify and hold the Foundation, the\n",
      "trademark owner, any agent or employee of the Foundation, anyone\n",
      "providing copies of Project Gutenberg-tm electronic works in accordance\n",
      "with this agreement, and any volunteers associated with the production,\n",
      "promotion and distribution of Project Gutenberg-tm electronic works,\n",
      "harmless from all liability, costs and expenses, including legal fees,\n",
      "that arise directly or indirectly from any of the following which you do\n",
      "or cause to occur: (a) distribution of this or any Project Gutenberg-tm\n",
      "work, (b) alteration, modification, or additions or deletions to any\n",
      "Project Gutenberg-tm work, and (c) any Defect you cause.\n",
      "\n",
      "\n",
      "Section  2.  Information about the Mission of Project Gutenberg-tm\n",
      "\n",
      "Project Gutenberg-tm is synonymous with the free distribution of\n",
      "electronic works in formats readable by the widest variety of computers\n",
      "including obsolete, old, middle-aged and new computers.  It exists\n",
      "because of the efforts of hundreds of volunteers and donations from\n",
      "people in all walks of life.\n",
      "\n",
      "Volunteers and financial support to provide volunteers with the\n",
      "assistance they need, is critical to reaching Project Gutenberg-tm's\n",
      "goals and ensuring that the Project Gutenberg-tm collection will\n",
      "remain freely available for generations to come.  In 2001, the Project\n",
      "Gutenberg Literary Archive Foundation was created to provide a secure\n",
      "and permanent future for Project Gutenberg-tm and future generations.\n",
      "To learn more about the Project Gutenberg Literary Archive Foundation\n",
      "and how your efforts and donations can help, see Sections 3 and 4\n",
      "and the Foundation web page at http://www.gutenberg.org/fundraising/pglaf.\n",
      "\n",
      "\n",
      "Section 3.  Information about the Project Gutenberg Literary Archive\n",
      "Foundation\n",
      "\n",
      "The Project Gutenberg Literary Archive Foundation is a non profit\n",
      "501(c)(3) educational corporation organized under the laws of the\n",
      "state of Mississippi and granted tax exempt status by the Internal\n",
      "Revenue Service.  The Foundation's EIN or federal tax identification\n",
      "number is 64-6221541.  Contributions to the Project Gutenberg\n",
      "Literary Archive Foundation are tax deductible to the full extent\n",
      "permitted by U.S. federal laws and your state's laws.\n",
      "\n",
      "The Foundation's principal office is located at 4557 Melan Dr. S.\n",
      "Fairbanks, AK, 99712., but its volunteers and employees are scattered\n",
      "throughout numerous locations.  Its business office is located at\n",
      "809 North 1500 West, Salt Lake City, UT 84116, (801) 596-1887, email\n",
      "business@pglaf.org.  Email contact links and up to date contact\n",
      "information can be found at the Foundation's web site and official\n",
      "page at http://www.gutenberg.org/about/contact\n",
      "\n",
      "For additional contact information:\n",
      "     Dr. Gregory B. Newby\n",
      "     Chief Executive and Director\n",
      "     gbnewby@pglaf.org\n",
      "\n",
      "Section 4.  Information about Donations to the Project Gutenberg\n",
      "Literary Archive Foundation\n",
      "\n",
      "Project Gutenberg-tm depends upon and cannot survive without wide\n",
      "spread public support and donations to carry out its mission of\n",
      "increasing the number of public domain and licensed works that can be\n",
      "freely distributed in machine readable form accessible by the widest\n",
      "array of equipment including outdated equipment.  Many small donations\n",
      "($1 to $5,000) are particularly important to maintaining tax exempt\n",
      "status with the IRS.\n",
      "\n",
      "The Foundation is committed to complying with the laws regulating\n",
      "charities and charitable donations in all 50 states of the United\n",
      "States.  Compliance requirements are not uniform and it takes a\n",
      "considerable effort, much paperwork and many fees to meet and keep up\n",
      "with these requirements.  We do not solicit donations in locations\n",
      "where we have not received written confirmation of compliance.  To\n",
      "SEND DONATIONS or determine the status of compliance for any\n",
      "particular state visit http://www.gutenberg.org/fundraising/pglaf\n",
      "\n",
      "While we cannot and do not solicit contributions from states where we\n",
      "have not met the solicitation requirements, we know of no prohibition\n",
      "against accepting unsolicited donations from donors in such states who\n",
      "approach us with offers to donate.\n",
      "\n",
      "International donations are gratefully accepted, but we cannot make\n",
      "any statements concerning tax treatment of donations received from\n",
      "outside the United States.  U.S. laws alone swamp our small staff.\n",
      "\n",
      "Please check the Project Gutenberg Web pages for current donation\n",
      "methods and addresses.  Donations are accepted in a number of other\n",
      "ways including checks, online payments and credit card donations.\n",
      "To donate, please visit: http://www.gutenberg.org/fundraising/donate\n",
      "\n",
      "\n",
      "Section 5.  General Information About Project Gutenberg-tm electronic\n",
      "works.\n",
      "\n",
      "Professor Michael S. Hart is the originator of the Project Gutenberg-tm\n",
      "concept of a library of electronic works that could be freely shared\n",
      "with anyone.  For thirty years, he produced and distributed Project\n",
      "Gutenberg-tm eBooks with only a loose network of volunteer support.\n",
      "\n",
      "Project Gutenberg-tm eBooks are often created from several printed\n",
      "editions, all of which are confirmed as Public Domain in the U.S.\n",
      "unless a copyright notice is included.  Thus, we do not necessarily\n",
      "keep eBooks in compliance with any particular paper edition.\n",
      "\n",
      "Each eBook is in a subdirectory of the same number as the eBook's\n",
      "eBook number, often in several formats including plain vanilla ASCII,\n",
      "compressed (zipped), HTML and others.\n",
      "\n",
      "Corrected EDITIONS of our eBooks replace the old file and take over\n",
      "the old filename and etext number.  The replaced older file is renamed.\n",
      "VERSIONS based on separate sources are treated as new eBooks receiving\n",
      "new filenames and etext numbers.\n",
      "\n",
      "Most people start at our Web site which has the main PG search facility:\n",
      "\n",
      "http://www.gutenberg.org\n",
      "\n",
      "This Web site includes information about Project Gutenberg-tm,\n",
      "including how to make donations to the Project Gutenberg Literary\n",
      "Archive Foundation, how to help produce our new eBooks, and how to\n",
      "subscribe to our email newsletter to hear about new eBooks.\n",
      "\n",
      "EBooks posted prior to November 2003, with eBook numbers BELOW #10000,\n",
      "are filed in directories based on their release date.  If you want to\n",
      "download any of these eBooks directly, rather than using the regular\n",
      "search system you may utilize the following addresses and just\n",
      "download by the etext year.\n",
      "\n",
      "http://www.gutenberg.org/dirs/etext06/\n",
      "\n",
      "    (Or /etext 05, 04, 03, 02, 01, 00, 99,\n",
      "     98, 97, 96, 95, 94, 93, 92, 92, 91 or 90)\n",
      "\n",
      "EBooks posted since November 2003, with etext numbers OVER #10000, are\n",
      "filed in a different way.  The year of a release date is no longer part\n",
      "of the directory path.  The path is based on the etext number (which is\n",
      "identical to the filename).  The path to the file is made up of single\n",
      "digits corresponding to all but the last digit in the filename.  For\n",
      "example an eBook of filename 10234 would be found at:\n",
      "\n",
      "http://www.gutenberg.org/dirs/1/0/2/3/10234\n",
      "\n",
      "or filename 24689 would be found at:\n",
      "http://www.gutenberg.org/dirs/2/4/6/8/24689\n",
      "\n",
      "An alternative method of locating eBooks:\n",
      "http://www.gutenberg.org/dirs/GUTINDEX.ALL\n",
      "\n",
      "*** END: FULL LICENSE ***\n",
      "\n",
      "\n",
      "\n",
      "\n"
     ]
    }
   ],
   "source": [
    "# Get the text out of the soup and print it\n",
    "text = soup.get_text()\n",
    "print(text)"
   ]
  },
  {
   "cell_type": "markdown",
   "metadata": {},
   "source": [
    "Notice that this is getting closer to a workable product.   \n",
    "\n",
    "It is the text of the novel bookedended with noise.  The noise is small compared to the target text.  The first round will retain the noise.  For more accurate results later, we'll filter out the noise.  \n",
    "\n",
    "Now with the text of interest, count each words frequency and plot onto a histogram.  Natural Language Processing offers the ideal solution."
   ]
  },
  {
   "cell_type": "markdown",
   "metadata": {},
   "source": [
    "### Part 2: NLP"
   ]
  },
  {
   "cell_type": "markdown",
   "metadata": {},
   "source": [
    "Use `nltk`, the [Natural Language Toolkit](http://www.nltk.org/) to:\n",
    "\n",
    "1. _Tokenize_ the text (descretize desired sequences of characters);\n",
    "2. Remove stopwords (words such as 'a' and 'the' that occur a great deal in ~ nearly all English language texts.\n"
   ]
  },
  {
   "cell_type": "markdown",
   "metadata": {},
   "source": [
    "#### Step 1: Tokenize\n",
    "\n",
    "Tokenize taget text using _regular expressions_. A regular expression, or _regex_ for short, is a _sequence of characters_ that define a _search pattern_. For example:\n",
    "\n",
    "* A string consists of 'peter piper picked a peck of pickled peppers' and you want to extract from the list of _all_ words that begin with the letter 'p'. \n",
    "\n",
    "The regular expression that matches all words beginning with 'p' is 'p\\w+'. Let's unpack this: \n",
    "\n",
    "* the 'p' at the beginning of the regular expression filters sequences of characters that start with a 'p';\n",
    "* the '\\w' is a special character that will match any alphanumeric A-z, a-z, 0-9, along with underscores;\n",
    "* The '+' is a quantifier permitting matches of one or more of the preceding token ('\\w+' will match one or more arbitrary sequences of alphanumeric characters and underscores.)\n",
    "\n",
    "Put this all together and the regular expression 'p\\w+' will match all substrings that start with a 'p' and are followed by alphanumeric characters and underscores. In most English language texts that make sense, this will correspond to words beginning with 'p'.\n",
    "\n",
    "Call the built-in Python package `re` to extract all words beginning with 'p' from the sentence 'peter piper picked a peck of pickled peppers' as a warm-up."
   ]
  },
  {
   "cell_type": "code",
   "execution_count": 14,
   "metadata": {},
   "outputs": [
    {
     "data": {
      "text/plain": [
       "['peter', 'piper', 'pick', 'peck', 'pickled', 'peppers']"
      ]
     },
     "execution_count": 14,
     "metadata": {},
     "output_type": "execute_result"
    }
   ],
   "source": [
    "# Import regex package\n",
    "import re\n",
    "\n",
    "# Define sentence\n",
    "sentence = 'peter piper pick a peck of pickled peppers'\n",
    "\n",
    "# Define regex\n",
    "ps = 'p\\w+'\n",
    "\n",
    "\n",
    "# Find all words in sentence that match the regex and print them\n",
    "re.findall(ps, sentence)"
   ]
  },
  {
   "cell_type": "markdown",
   "metadata": {},
   "source": [
    "Notice all words note beginning in 'p' are expunged\n",
    "\n",
    "To effectively reinstate the expunged words, here is a regex matching all words."
   ]
  },
  {
   "cell_type": "code",
   "execution_count": 15,
   "metadata": {},
   "outputs": [
    {
     "data": {
      "text/plain": [
       "['peter', 'piper', 'pick', 'a', 'peck', 'of', 'pickled', 'peppers']"
      ]
     },
     "execution_count": 15,
     "metadata": {},
     "output_type": "execute_result"
    }
   ],
   "source": [
    "# Find all words and print them\n",
    "re.findall('\\w+', sentence)"
   ]
  },
  {
   "cell_type": "markdown",
   "metadata": {},
   "source": [
    "Apply this regex to the target _text_, the string that contains _On Handling the Data_:"
   ]
  },
  {
   "cell_type": "code",
   "execution_count": 19,
   "metadata": {},
   "outputs": [
    {
     "data": {
      "text/plain": [
       "['The',\n",
       " 'Project',\n",
       " 'Gutenberg',\n",
       " 'eBook',\n",
       " 'of',\n",
       " 'On',\n",
       " 'Handling',\n",
       " 'the',\n",
       " 'Data',\n",
       " 'by',\n",
       " 'M',\n",
       " 'I',\n",
       " 'Mayfield',\n",
       " 'CDATA',\n",
       " 'XML']"
      ]
     },
     "execution_count": 19,
     "metadata": {},
     "output_type": "execute_result"
    }
   ],
   "source": [
    "# Find all words in On Handling the Data and print first 5\n",
    "tokens = re.findall('\\w+', text)\n",
    "tokens[:15]"
   ]
  },
  {
   "cell_type": "markdown",
   "metadata": {},
   "source": [
    "**Note** An alternate method is found with `nltk`, the [Natural Language Toolkit](http://www.nltk.org/):"
   ]
  },
  {
   "cell_type": "code",
   "execution_count": 20,
   "metadata": {},
   "outputs": [
    {
     "data": {
      "text/plain": [
       "['The',\n",
       " 'Project',\n",
       " 'Gutenberg',\n",
       " 'eBook',\n",
       " 'of',\n",
       " 'On',\n",
       " 'Handling',\n",
       " 'the',\n",
       " 'Data',\n",
       " 'by',\n",
       " 'M',\n",
       " 'I',\n",
       " 'Mayfield',\n",
       " 'CDATA',\n",
       " 'XML']"
      ]
     },
     "execution_count": 20,
     "metadata": {},
     "output_type": "execute_result"
    }
   ],
   "source": [
    "# Import RegexpTokenizer from nltk.tokenize\n",
    "from nltk.tokenize import RegexpTokenizer\n",
    "\n",
    "# Create tokenizer\n",
    "tokenizer = RegexpTokenizer('\\w+')\n",
    "\n",
    "# Create tokens\n",
    "tokens = tokenizer.tokenize(text)\n",
    "tokens[:15]"
   ]
  },
  {
   "cell_type": "markdown",
   "metadata": {},
   "source": [
    "We are at the goal line. Capitalization causes the same word to be tokenized mutliple times.  Build a list of all words from _On Handling the Data_ where all letters are lower case.  Python easily does this using the string method `.lower()`:"
   ]
  },
  {
   "cell_type": "code",
   "execution_count": 21,
   "metadata": {},
   "outputs": [
    {
     "data": {
      "text/plain": [
       "['the',\n",
       " 'project',\n",
       " 'gutenberg',\n",
       " 'ebook',\n",
       " 'of',\n",
       " 'on',\n",
       " 'handling',\n",
       " 'the',\n",
       " 'data',\n",
       " 'by',\n",
       " 'm',\n",
       " 'i',\n",
       " 'mayfield',\n",
       " 'cdata',\n",
       " 'xml']"
      ]
     },
     "execution_count": 21,
     "metadata": {},
     "output_type": "execute_result"
    }
   ],
   "source": [
    "# Initialize new list\n",
    "words = []\n",
    "\n",
    "# Loop through list tokens and make lower case\n",
    "for word in tokens:\n",
    "    words.append(word.lower())\n",
    "\n",
    "# Print several items from list as sanity check\n",
    "words[:15]"
   ]
  },
  {
   "cell_type": "markdown",
   "metadata": {},
   "source": [
    "#### Step 2: Remove stop words\n",
    "\n",
    "Known as stopwords, words that provide little value should be scrubbed from the target data.   \n",
    "\n",
    "The package `nltk` has a list of stopwords in English which will be stored as `sw.` \n",
    "\n"
   ]
  },
  {
   "cell_type": "code",
   "execution_count": 24,
   "metadata": {},
   "outputs": [
    {
     "name": "stdout",
     "output_type": "stream",
     "text": [
      "[nltk_data] Downloading package stopwords to\n",
      "[nltk_data]     C:\\Users\\seanf\\AppData\\Roaming\\nltk_data...\n",
      "[nltk_data]   Package stopwords is already up-to-date!\n"
     ]
    },
    {
     "data": {
      "text/plain": [
       "['i', 'me', 'my', 'myself', 'we']"
      ]
     },
     "execution_count": 24,
     "metadata": {},
     "output_type": "execute_result"
    }
   ],
   "source": [
    "# Import nltk\n",
    "import nltk\n",
    "\n",
    "# load stopwords from package\n",
    "nltk.download('stopwords')\n",
    "\n",
    "# Get English stopwords and print some of them\n",
    "sw = nltk.corpus.stopwords.words('english')\n",
    "sw[:5]"
   ]
  },
  {
   "cell_type": "markdown",
   "metadata": {},
   "source": [
    "Create a list of all words in `words` that are *not* in `sw`. One way to get this list is to loop over all elements of `words` and add the to a new list if they are *not* in `sw`:"
   ]
  },
  {
   "cell_type": "code",
   "execution_count": 26,
   "metadata": {
    "scrolled": true
   },
   "outputs": [
    {
     "data": {
      "text/plain": [
       "['project',\n",
       " 'gutenberg',\n",
       " 'ebook',\n",
       " 'handling',\n",
       " 'data',\n",
       " 'mayfield',\n",
       " 'cdata',\n",
       " 'xml',\n",
       " 'blockout',\n",
       " 'text',\n",
       " 'decoration',\n",
       " 'none',\n",
       " 'color',\n",
       " 'blue',\n",
       " 'visited']"
      ]
     },
     "execution_count": 26,
     "metadata": {},
     "output_type": "execute_result"
    }
   ],
   "source": [
    "# Initialize new list\n",
    "words_ns = []\n",
    "\n",
    "# Add to words_ns all words that are in words but not in sw\n",
    "for word in words:\n",
    "    if word not in sw:\n",
    "        words_ns.append(word)\n",
    "\n",
    "# Print several list items as sanity check\n",
    "words_ns[:15]"
   ]
  },
  {
   "cell_type": "markdown",
   "metadata": {},
   "source": [
    "## 4. Answer question"
   ]
  },
  {
   "cell_type": "markdown",
   "metadata": {},
   "source": [
    "The original question was 'What are the most frequent words in the _On Handling the Data_ and how often do they occur?' \n",
    "\n",
    "Plot a frequency histogram of words in _On Handling the Data_ using `nltk`. \n",
    "\n",
    "* You create a frequency distribution object using the function `nltk.FreqDist()`;\n",
    "* You use the `plot()` method of the resulting object."
   ]
  },
  {
   "cell_type": "code",
   "execution_count": 27,
   "metadata": {},
   "outputs": [
    {
     "data": {
      "image/png": "[encoded data removed]",
      "text/plain": [
       "<matplotlib.figure.Figure at 0x1c65a28d0b8>"
      ]
     },
     "metadata": {},
     "output_type": "display_data"
    }
   ],
   "source": [
    "#Import datavis libraries\n",
    "import matplotlib.pyplot as plt\n",
    "import seaborn as sns\n",
    "\n",
    "# Figures inline and set visualization style\n",
    "%matplotlib inline\n",
    "sns.set()\n",
    "\n",
    "# Create freq dist and plot\n",
    "freqdist1 = nltk.FreqDist(words_ns)\n",
    "freqdist1.plot(25)"
   ]
  },
  {
   "cell_type": "markdown",
   "metadata": {},
   "source": [
    "## 5. Present Solution\n",
    "\n",
    "Interpretability of the solution is critical for informing both the technical and non-technical audience.  Fortunately, `nltk` offers an organic frequency ditribution plot that satitates both parties.   "
   ]
  },
  {
   "cell_type": "markdown",
   "metadata": {},
   "source": [
    "___\n",
    "## BONUS MATERIAL"
   ]
  },
  {
   "cell_type": "markdown",
   "metadata": {},
   "source": [
    "As you have seen that there are lots of novels on Project Gutenberg, we can make these word frequency histograms of, it makes sense to write your own function that does all of this:"
   ]
  },
  {
   "cell_type": "code",
   "execution_count": 17,
   "metadata": {
    "collapsed": true
   },
   "outputs": [],
   "source": [
    "def plot_word_freq(url):\n",
    "    \"\"\"Takes a url (from Project Gutenberg) and plots a word frequency\n",
    "    distribution\"\"\"\n",
    "    # Make the request and check object type\n",
    "    r = requests.get(url)\n",
    "    # Extract HTML from Response object and print\n",
    "    html = r.text\n",
    "    # Create a BeautifulSoup object from the HTML\n",
    "    soup = BeautifulSoup(html, \"html5lib\")\n",
    "    # Get the text out of the soup and print it\n",
    "    text = soup.get_text()\n",
    "    # Create tokenizer\n",
    "    tokenizer = RegexpTokenizer('\\w+')\n",
    "    # Create tokens\n",
    "    tokens = tokenizer.tokenize(text)\n",
    "    # Initialize new list\n",
    "    words = []\n",
    "    # Loop through list tokens and make lower case\n",
    "    for word in tokens:\n",
    "        words.append(word.lower())\n",
    "    # Get English stopwords and print some of them\n",
    "    sw = nltk.corpus.stopwords.words('english')\n",
    "    # Initialize new list\n",
    "    words_ns = []\n",
    "    # Add to words_ns all words that are in words but not in sw\n",
    "    for word in words:\n",
    "        if word not in sw:\n",
    "            words_ns.append(word)\n",
    "    # Create freq dist and plot\n",
    "    freqdist1 = nltk.FreqDist(words_ns)\n",
    "    freqdist1.plot(25)"
   ]
  },
  {
   "cell_type": "markdown",
   "metadata": {},
   "source": [
    "Now use the function to plot word frequency distributions from other texts on Project Gutenberg:"
   ]
  },
  {
   "cell_type": "markdown",
   "metadata": {},
   "source": [
    "* Pride and Prejudice:"
   ]
  },
  {
   "cell_type": "code",
   "execution_count": 18,
   "metadata": {},
   "outputs": [
    {
     "data": {
      "image/png": "[encoded data removed]",
      "text/plain": [
       "<matplotlib.figure.Figure at 0x1146c8ba8>"
      ]
     },
     "metadata": {},
     "output_type": "display_data"
    }
   ],
   "source": [
    "plot_word_freq('https://www.gutenberg.org/files/42671/42671-h/42671-h.htm')"
   ]
  },
  {
   "cell_type": "markdown",
   "metadata": {},
   "source": [
    "* Robinson Crusoe"
   ]
  },
  {
   "cell_type": "code",
   "execution_count": 19,
   "metadata": {},
   "outputs": [
    {
     "data": {
      "image/png": "[encoded data removed]",
      "text/plain": [
       "<matplotlib.figure.Figure at 0x11432a7b8>"
      ]
     },
     "metadata": {},
     "output_type": "display_data"
    }
   ],
   "source": [
    "plot_word_freq('https://www.gutenberg.org/files/521/521-h/521-h.htm')"
   ]
  },
  {
   "cell_type": "markdown",
   "metadata": {},
   "source": [
    "* The King James Bible"
   ]
  },
  {
   "cell_type": "code",
   "execution_count": 20,
   "metadata": {
    "scrolled": true
   },
   "outputs": [
    {
     "data": {
      "image/png": "[encoded data removed]",
      "text/plain": [
       "<matplotlib.figure.Figure at 0x11d8aea58>"
      ]
     },
     "metadata": {},
     "output_type": "display_data"
    }
   ],
   "source": [
    "plot_word_freq('https://www.gutenberg.org/files/10/10-h/10-h.htm')"
   ]
  },
  {
   "cell_type": "markdown",
   "metadata": {},
   "source": [
    "## Conclusion"
   ]
  },
  {
   "cell_type": "markdown",
   "metadata": {
    "collapsed": true
   },
   "source": [
    "In this post, the Data Science pipeline leveraged a frequency distribution plot of words in *Moby Dick*, among many other novels. To do this, the Python package `requests` scraped from the website [Project Gutenberg](https://www.gutenberg.org/) (large corpus of books) raw text from which `BeautifulSoup` extracted usable HTML.  The text was analyzed using the Natural Language ToolKit (`nltk`) and Natural Language Processing (NLP) with tokenization and stopwords.\n",
    "\n",
    "Any available digital text is able to be visualized by word frequency distribution.  \n",
    "\n",
    "The NLP skills demonstrated here are applicable to much of the data encountered as the vast proportion of the world's data is unstructured data and includes a great deal of text. \n",
    "\n",
    "This code was generated from a Jupyter Notebook found in [this repository](https://github.com/lonesome-data/CY3650-Project.git) and inspired by Hugo Bowne-Anderson's 'Frequencies of words in novels: a Data Science pipeline'. "
   ]
  }
 ],
 "metadata": {
  "kernelspec": {
   "display_name": "Python 3",
   "language": "python",
   "name": "python3"
  },
  "language_info": {
   "codemirror_mode": {
    "name": "ipython",
    "version": 3
   },
   "file_extension": ".py",
   "mimetype": "text/x-python",
   "name": "python",
   "nbconvert_exporter": "python",
   "pygments_lexer": "ipython3",
   "version": "3.6.3"
  }
 },
 "nbformat": 4,
 "nbformat_minor": 2
}
